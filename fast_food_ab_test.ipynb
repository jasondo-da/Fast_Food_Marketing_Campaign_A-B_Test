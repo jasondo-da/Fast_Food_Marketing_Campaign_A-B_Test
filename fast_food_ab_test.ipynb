{
 "cells": [
  {
   "cell_type": "markdown",
   "metadata": {},
   "source": [
    "# WA Marketing A/B Test\n",
    "\n",
    "## Table of Contents  <a id='back'></a> \n",
    "- [Project Introduction](#project-introduction)\n",
    "    - [Analysis Outline](#analysis-outline)\n",
    "    - [Results](#results)\n",
    "- [Importing Libraries and Opening Data Files](#importing-libraries-and-opening-data-files)\n",
    "- [Pre-Processing Data](#pre-processing-data)\n",
    "    - [Header Style](#header-style)\n",
    "    - [Duplicates](#duplicates)\n",
    "    - [Missing Values](#missing-values)\n",
    "    - [Data Usage and Formatting](#data-usage-and-formatting)\n",
    "- [Data Analysis](#data-analysis)\n",
    "- [A/B Test](#ab-test)\n",
    "    - [ANOVA Test](#anova-test)\n",
    "- [Conclusion](#conclusion)\n",
    "- [Dataset Citation](#dataset-citation)\n",
    "\n",
    "<a name='headers'>"
   ]
  },
  {
   "cell_type": "markdown",
   "metadata": {},
   "source": [
    "## Project Introduction\n",
    "\n",
    "A quick growing fast-food chain is planning to add a new menu and is currently undecided between three possible marketing campaigns for their new product. To find the best marketing campaign for optimal sales growth, the new menu item is introduced to several locations in randomly selected markets. One of three marketing campaigns is randomly used at each location and the weekly total sales will be recorded for the first four weeks under the new campaign. To find the best marketing campaign we are going to conduct an A/B test to statistically find the optimal marketing campaign.\n",
    "\n",
    "### Analysis Outline\n",
    "\n",
    "- The ANOVA test was used, and the established hypothesis is:\n",
    "\n",
    "    - (H0): M0 = M1 = M2 (There is not a statistical difference in the promotion groups)\n",
    "    \n",
    "    - (H1): M0 != M1 != M2 (There is a statistical difference in the promotion groups)\n",
    "\n",
    "- Shapiro-Wilk test resulted in the significance level being less than 0.05, leading us to reject the null hypothesis, indicating that the assumption of equality is not met and that it is not a normal distribution\n",
    "\n",
    "- In the case of non-normal distribution, we used the Kruskal–Wallis Test a non-parametric test. For this scenario, we are going to use the Kruskal–Wallis Test\n",
    "\n",
    "### Results\n",
    "\n",
    "Based on the results of this dataset, I uncovered that this fast-food business should use promotion strategies A/1 and/or C/3 for their future primary marketing campaign for optimal sales performance."
   ]
  },
  {
   "cell_type": "markdown",
   "metadata": {},
   "source": [
    "## Importing Libraries and Opening Data Files"
   ]
  },
  {
   "cell_type": "code",
   "execution_count": 1,
   "metadata": {},
   "outputs": [],
   "source": [
    "# Importing libraries\n",
    "import pandas as pd\n",
    "import numpy as np\n",
    "from scipy.stats import shapiro, kruskal\n",
    "from statsmodels.stats.multicomp import MultiComparison\n",
    "import matplotlib.pyplot as plt\n",
    "import seaborn  as sns"
   ]
  },
  {
   "cell_type": "code",
   "execution_count": 2,
   "metadata": {},
   "outputs": [],
   "source": [
    "# Importing dataset\n",
    "try:\n",
    "    mc = pd.read_csv('wa_marketing_campaign.csv')\n",
    "except:\n",
    "    mc = pd.read_csv('/datasets/wa_marketing_campaign.csv')"
   ]
  },
  {
   "cell_type": "markdown",
   "metadata": {},
   "source": [
    "[Back to Table of Contents](#back)"
   ]
  },
  {
   "cell_type": "markdown",
   "metadata": {},
   "source": [
    "## Pre-Processing Data"
   ]
  },
  {
   "cell_type": "code",
   "execution_count": 3,
   "metadata": {},
   "outputs": [
    {
     "name": "stdout",
     "output_type": "stream",
     "text": [
      "<class 'pandas.core.frame.DataFrame'>\n",
      "RangeIndex: 548 entries, 0 to 547\n",
      "Data columns (total 7 columns):\n",
      " #   Column            Non-Null Count  Dtype  \n",
      "---  ------            --------------  -----  \n",
      " 0   MarketID          548 non-null    int64  \n",
      " 1   MarketSize        548 non-null    object \n",
      " 2   LocationID        548 non-null    int64  \n",
      " 3   AgeOfStore        548 non-null    int64  \n",
      " 4   Promotion         548 non-null    int64  \n",
      " 5   week              548 non-null    int64  \n",
      " 6   SalesInThousands  548 non-null    float64\n",
      "dtypes: float64(1), int64(5), object(1)\n",
      "memory usage: 30.1+ KB\n"
     ]
    },
    {
     "data": {
      "text/html": [
       "<div>\n",
       "<style scoped>\n",
       "    .dataframe tbody tr th:only-of-type {\n",
       "        vertical-align: middle;\n",
       "    }\n",
       "\n",
       "    .dataframe tbody tr th {\n",
       "        vertical-align: top;\n",
       "    }\n",
       "\n",
       "    .dataframe thead th {\n",
       "        text-align: right;\n",
       "    }\n",
       "</style>\n",
       "<table border=\"1\" class=\"dataframe\">\n",
       "  <thead>\n",
       "    <tr style=\"text-align: right;\">\n",
       "      <th></th>\n",
       "      <th>MarketID</th>\n",
       "      <th>MarketSize</th>\n",
       "      <th>LocationID</th>\n",
       "      <th>AgeOfStore</th>\n",
       "      <th>Promotion</th>\n",
       "      <th>week</th>\n",
       "      <th>SalesInThousands</th>\n",
       "    </tr>\n",
       "  </thead>\n",
       "  <tbody>\n",
       "    <tr>\n",
       "      <th>0</th>\n",
       "      <td>1</td>\n",
       "      <td>Medium</td>\n",
       "      <td>1</td>\n",
       "      <td>4</td>\n",
       "      <td>3</td>\n",
       "      <td>1</td>\n",
       "      <td>33.73</td>\n",
       "    </tr>\n",
       "    <tr>\n",
       "      <th>1</th>\n",
       "      <td>1</td>\n",
       "      <td>Medium</td>\n",
       "      <td>1</td>\n",
       "      <td>4</td>\n",
       "      <td>3</td>\n",
       "      <td>2</td>\n",
       "      <td>35.67</td>\n",
       "    </tr>\n",
       "    <tr>\n",
       "      <th>2</th>\n",
       "      <td>1</td>\n",
       "      <td>Medium</td>\n",
       "      <td>1</td>\n",
       "      <td>4</td>\n",
       "      <td>3</td>\n",
       "      <td>3</td>\n",
       "      <td>29.03</td>\n",
       "    </tr>\n",
       "    <tr>\n",
       "      <th>3</th>\n",
       "      <td>1</td>\n",
       "      <td>Medium</td>\n",
       "      <td>1</td>\n",
       "      <td>4</td>\n",
       "      <td>3</td>\n",
       "      <td>4</td>\n",
       "      <td>39.25</td>\n",
       "    </tr>\n",
       "    <tr>\n",
       "      <th>4</th>\n",
       "      <td>1</td>\n",
       "      <td>Medium</td>\n",
       "      <td>2</td>\n",
       "      <td>5</td>\n",
       "      <td>2</td>\n",
       "      <td>1</td>\n",
       "      <td>27.81</td>\n",
       "    </tr>\n",
       "  </tbody>\n",
       "</table>\n",
       "</div>"
      ],
      "text/plain": [
       "   MarketID MarketSize  LocationID  AgeOfStore  Promotion  week  \\\n",
       "0         1     Medium           1           4          3     1   \n",
       "1         1     Medium           1           4          3     2   \n",
       "2         1     Medium           1           4          3     3   \n",
       "3         1     Medium           1           4          3     4   \n",
       "4         1     Medium           2           5          2     1   \n",
       "\n",
       "   SalesInThousands  \n",
       "0             33.73  \n",
       "1             35.67  \n",
       "2             29.03  \n",
       "3             39.25  \n",
       "4             27.81  "
      ]
     },
     "execution_count": 3,
     "metadata": {},
     "output_type": "execute_result"
    }
   ],
   "source": [
    "# Getting general information about the dataset\n",
    "mc.info()\n",
    "mc.head()"
   ]
  },
  {
   "cell_type": "markdown",
   "metadata": {},
   "source": [
    "### Header Style"
   ]
  },
  {
   "cell_type": "code",
   "execution_count": 4,
   "metadata": {},
   "outputs": [
    {
     "data": {
      "text/plain": [
       "Index(['MarketID', 'MarketSize', 'LocationID', 'AgeOfStore', 'Promotion',\n",
       "       'week', 'SalesInThousands'],\n",
       "      dtype='object')"
      ]
     },
     "execution_count": 4,
     "metadata": {},
     "output_type": "execute_result"
    }
   ],
   "source": [
    "#checking for snakecase format\n",
    "mc.columns"
   ]
  },
  {
   "cell_type": "code",
   "execution_count": 5,
   "metadata": {},
   "outputs": [
    {
     "data": {
      "text/plain": [
       "Index(['market_id', 'market_size', 'location_id', 'store_age',\n",
       "       'promotion_group', 'week', 'sales_in_thousands'],\n",
       "      dtype='object')"
      ]
     },
     "execution_count": 5,
     "metadata": {},
     "output_type": "execute_result"
    }
   ],
   "source": [
    "# Renaming and formatting column names to snake_case format\n",
    "mc = mc.rename(columns={'MarketID': 'market_id',\n",
    "                        'MarketSize': 'market_size',\n",
    "                        'LocationID': 'location_id',\n",
    "                        'AgeOfStore': 'store_age',\n",
    "                        'Promotion': 'promotion_group',\n",
    "                        'SalesInThousands': 'sales_in_thousands'})\n",
    "mc.columns"
   ]
  },
  {
   "cell_type": "markdown",
   "metadata": {},
   "source": [
    "[Back to Table of Contents](#back)"
   ]
  },
  {
   "cell_type": "markdown",
   "metadata": {},
   "source": [
    "### Duplicates"
   ]
  },
  {
   "cell_type": "code",
   "execution_count": 6,
   "metadata": {},
   "outputs": [
    {
     "data": {
      "text/plain": [
       "0"
      ]
     },
     "execution_count": 6,
     "metadata": {},
     "output_type": "execute_result"
    }
   ],
   "source": [
    "# Checking for duplicates\n",
    "mc.duplicated().sum()"
   ]
  },
  {
   "cell_type": "markdown",
   "metadata": {},
   "source": [
    "[Back to Table of Contents](#back)"
   ]
  },
  {
   "cell_type": "markdown",
   "metadata": {},
   "source": [
    "### Missing Values"
   ]
  },
  {
   "cell_type": "code",
   "execution_count": 7,
   "metadata": {},
   "outputs": [
    {
     "data": {
      "text/plain": [
       "market_id             0\n",
       "market_size           0\n",
       "location_id           0\n",
       "store_age             0\n",
       "promotion_group       0\n",
       "week                  0\n",
       "sales_in_thousands    0\n",
       "dtype: int64"
      ]
     },
     "execution_count": 7,
     "metadata": {},
     "output_type": "execute_result"
    }
   ],
   "source": [
    "# Checking for null values\n",
    "mc.isna().sum()"
   ]
  },
  {
   "cell_type": "markdown",
   "metadata": {},
   "source": [
    "[Back to Table of Contents](#back)"
   ]
  },
  {
   "cell_type": "markdown",
   "metadata": {},
   "source": [
    "### Data Usage and Formatting"
   ]
  },
  {
   "cell_type": "code",
   "execution_count": 8,
   "metadata": {},
   "outputs": [
    {
     "name": "stdout",
     "output_type": "stream",
     "text": [
      "<class 'pandas.core.frame.DataFrame'>\n",
      "RangeIndex: 548 entries, 0 to 547\n",
      "Data columns (total 7 columns):\n",
      " #   Column              Non-Null Count  Dtype  \n",
      "---  ------              --------------  -----  \n",
      " 0   market_id           548 non-null    int64  \n",
      " 1   market_size         548 non-null    object \n",
      " 2   location_id         548 non-null    int64  \n",
      " 3   store_age           548 non-null    int64  \n",
      " 4   promotion_group     548 non-null    int64  \n",
      " 5   week                548 non-null    int64  \n",
      " 6   sales_in_thousands  548 non-null    float64\n",
      "dtypes: float64(1), int64(5), object(1)\n",
      "memory usage: 30.1+ KB\n"
     ]
    },
    {
     "data": {
      "text/plain": [
       "market_id              10\n",
       "market_size             3\n",
       "location_id           137\n",
       "store_age              25\n",
       "promotion_group         3\n",
       "week                    4\n",
       "sales_in_thousands    517\n",
       "dtype: int64"
      ]
     },
     "execution_count": 8,
     "metadata": {},
     "output_type": "execute_result"
    }
   ],
   "source": [
    "# By using nunique we can find the total number of unique values in each column. Depending\n",
    "# on the number of unique results we can change the column data types to reduce data usage.\n",
    "mc.info()\n",
    "mc.nunique()"
   ]
  },
  {
   "cell_type": "code",
   "execution_count": 9,
   "metadata": {},
   "outputs": [
    {
     "data": {
      "text/plain": [
       "array([ 1,  2,  3,  4,  5,  6,  7,  8,  9, 10], dtype=int64)"
      ]
     },
     "execution_count": 9,
     "metadata": {},
     "output_type": "execute_result"
    }
   ],
   "source": [
    "mc['market_id'].unique()"
   ]
  },
  {
   "cell_type": "code",
   "execution_count": 10,
   "metadata": {},
   "outputs": [
    {
     "data": {
      "text/plain": [
       "array(['Medium', 'Small', 'Large'], dtype=object)"
      ]
     },
     "execution_count": 10,
     "metadata": {},
     "output_type": "execute_result"
    }
   ],
   "source": [
    "mc['market_size'].unique()"
   ]
  },
  {
   "cell_type": "code",
   "execution_count": 11,
   "metadata": {},
   "outputs": [],
   "source": [
    "# Changing column to snake_case format and changing data type to reduce data usage\n",
    "mc['market_size'] = mc['market_size'].str.lower()\n",
    "mc['market_size'] = mc['market_size'].astype('category')"
   ]
  },
  {
   "cell_type": "code",
   "execution_count": 12,
   "metadata": {},
   "outputs": [
    {
     "data": {
      "text/plain": [
       "array([  1,   2,   3,   4,   5,   6,   7,   8,   9,  10,  11,  12,  13,\n",
       "       101, 102, 103, 104, 105, 106, 201, 202, 203, 204, 205, 206, 207,\n",
       "       208, 209, 210, 211, 212, 213, 214, 215, 216, 217, 218, 219, 220,\n",
       "       221, 222, 301, 302, 303, 304, 305, 306, 307, 308, 309, 401, 402,\n",
       "       403, 404, 405, 406, 407, 408, 409, 410, 411, 412, 413, 414, 415,\n",
       "       501, 502, 503, 504, 505, 506, 507, 508, 509, 510, 511, 512, 513,\n",
       "       514, 515, 601, 602, 603, 604, 605, 606, 607, 608, 609, 610, 611,\n",
       "       612, 613, 614, 615, 701, 702, 703, 704, 705, 706, 707, 708, 709,\n",
       "       710, 711, 712, 801, 802, 803, 804, 805, 806, 807, 808, 809, 810,\n",
       "       901, 902, 903, 904, 905, 906, 907, 908, 909, 910, 911, 912, 913,\n",
       "       914, 915, 916, 917, 918, 919, 920], dtype=int64)"
      ]
     },
     "execution_count": 12,
     "metadata": {},
     "output_type": "execute_result"
    }
   ],
   "source": [
    "mc['location_id'].unique()"
   ]
  },
  {
   "cell_type": "code",
   "execution_count": 13,
   "metadata": {},
   "outputs": [
    {
     "data": {
      "text/plain": [
       "array([ 4,  5, 12,  1, 10, 15,  6, 22,  8, 19, 11, 13,  3,  7,  2, 23,  9,\n",
       "       28, 25, 14, 24, 18, 27, 17, 20], dtype=int64)"
      ]
     },
     "execution_count": 13,
     "metadata": {},
     "output_type": "execute_result"
    }
   ],
   "source": [
    "mc['store_age'].unique()"
   ]
  },
  {
   "cell_type": "code",
   "execution_count": 14,
   "metadata": {},
   "outputs": [
    {
     "data": {
      "text/plain": [
       "array([3, 2, 1], dtype=int64)"
      ]
     },
     "execution_count": 14,
     "metadata": {},
     "output_type": "execute_result"
    }
   ],
   "source": [
    "mc['promotion_group'].unique()"
   ]
  },
  {
   "cell_type": "code",
   "execution_count": 15,
   "metadata": {},
   "outputs": [],
   "source": [
    "mc['promotion_group'] = mc['promotion_group'].astype('category')\n",
    "mc['promotion_group'] = mc['promotion_group'].replace(1, 'a').replace(2, 'b').replace(3, 'c')"
   ]
  },
  {
   "cell_type": "code",
   "execution_count": 16,
   "metadata": {},
   "outputs": [
    {
     "data": {
      "text/plain": [
       "array([1, 2, 3, 4], dtype=int64)"
      ]
     },
     "execution_count": 16,
     "metadata": {},
     "output_type": "execute_result"
    }
   ],
   "source": [
    "mc['week'].unique()"
   ]
  },
  {
   "cell_type": "code",
   "execution_count": 17,
   "metadata": {},
   "outputs": [
    {
     "data": {
      "text/plain": [
       "array([33.73, 35.67, 29.03, 39.25, 27.81, 34.67, 27.98, 27.72, 44.54,\n",
       "       37.94, 45.49, 34.75, 39.28, 39.8 , 24.77, 30.98, 30.37, 24.82,\n",
       "       37.47, 23.35, 32.9 , 22.18, 42.98, 26.68, 42.92, 42.16, 51.72,\n",
       "       36.17, 30.08, 28.62, 25.4 , 27.26, 37.41, 38.64, 40.9 , 41.11,\n",
       "       34.27, 29.3 , 23.93, 35.16, 33.42, 37.93, 33.85, 40.25, 35.85,\n",
       "       36.24, 41.73, 37.32, 50.48, 36.88, 35.68, 46.45, 67.48, 65.57,\n",
       "       68.42, 60.93, 61.59, 63.64, 54.68, 61.24, 62.93, 58.77, 70.6 ,\n",
       "       65.06, 59.76, 66.11, 62.16, 64.04, 59.65, 57.04, 59.73, 56.72,\n",
       "       58.55, 62.19, 53.14, 62.27, 86.14, 82.56, 79.36, 77.17, 88.73,\n",
       "       85.21, 81.55, 94.17, 89.7 , 78.43, 84.05, 81.18, 87.43, 81.79,\n",
       "       88.12, 75.29, 83.02, 90.3 , 85.18, 89.77, 82.64, 82.89, 82.13,\n",
       "       88.91, 87.7 , 81.16, 81.58, 94.21, 96.48, 84.13, 91.98, 81.72,\n",
       "       93.71, 96.01, 93.03, 97.61, 85.11, 88.07, 94.43, 89.44, 88.64,\n",
       "       81.37, 82.14, 79.64, 84.34, 87.9 , 76.12, 82.72, 73.22, 75.88,\n",
       "       78.01, 80.17, 91.6 , 80.61, 93.86, 83.43, 82.65, 77.39, 80.83,\n",
       "       80.75, 94.89, 74.75, 93.63, 80.82, 91.61, 79.02, 86.11, 82.88,\n",
       "       99.65, 86.96, 89.25, 66.22, 82.86, 83.4 , 75.61, 87.08, 89.32,\n",
       "       99.12, 85.85, 79.53, 74.03, 78.53, 76.71, 93.32, 85.71, 77.36,\n",
       "       91.29, 49.61, 43.69, 54.49, 61.25, 51.47, 53.47, 46.83, 56.7 ,\n",
       "       55.94, 61.36, 56.19, 62.06, 54.01, 63.48, 61.96, 55.3 , 47.89,\n",
       "       52.37, 49.11, 52.88, 53.79, 66.96, 57.1 , 65.12, 46.98, 53.41,\n",
       "       55.98, 51.87, 58.01, 47.93, 51.33, 54.06, 59.64, 52.23, 51.68,\n",
       "       46.22, 46.03, 40.4 , 50.28, 52.72, 38.3 , 51.79, 42.56, 44.64,\n",
       "       45.11, 42.15, 42.59, 49.56, 48.18, 48.25, 46.42, 43.77, 45.3 ,\n",
       "       48.84, 45.08, 44.67, 45.56, 55.19, 37.84, 50.07, 47.33, 45.42,\n",
       "       44.31, 40.26, 43.27, 48.33, 44.14, 51.5 , 49.95, 55.11, 55.28,\n",
       "       54.7 , 50.11, 55.59, 54.37, 51.91, 59.34, 62.63, 49.08, 58.04,\n",
       "       46.26, 47.71, 54.09, 46.89, 57.37, 55.53, 51.16, 57.06, 50.59,\n",
       "       48.64, 50.55, 24.75, 41.47, 35.1 , 34.33, 31.94, 29.64, 33.64,\n",
       "       36.05, 36.7 , 41.53, 27.71, 37.2 , 36.8 , 47.35, 32.21, 38.41,\n",
       "       37.9 , 44.84, 37.45, 35.46, 31.85, 19.26, 38.65, 17.34, 33.14,\n",
       "       23.44, 37.17, 30.52, 32.51, 29.12, 40.46, 41.25, 32.05, 47.5 ,\n",
       "       32.77, 30.26, 27.55, 27.37, 47.48, 39.41, 43.29, 35.3 , 35.86,\n",
       "       49.3 , 30.81, 44.98, 41.71, 41.1 , 40.97, 41.56, 36.39, 39.67,\n",
       "       34.46, 40.13, 32.18, 43.73, 49.01, 46.29, 37.14, 42.82, 47.22,\n",
       "       35.24, 43.15, 40.71, 38.26, 41.44, 25.7 , 40.29, 48.35, 43.26,\n",
       "       44.2 , 46.14, 41.12, 45.03, 38.85, 41.96, 42.27, 38.51, 43.51,\n",
       "       49.39, 42.46, 31.62, 53.38, 55.31, 56.1 , 43.24, 43.11, 43.78,\n",
       "       56.9 , 53.53, 47.92, 56.18, 46.66, 40.43, 51.15, 42.5 , 52.76,\n",
       "       47.63, 52.21, 40.17, 48.36, 42.76, 50.52, 56.86, 47.51, 38.56,\n",
       "       37.29, 35.6 , 33.35, 48.5 , 48.32, 41.54, 53.56, 49.72, 48.77,\n",
       "       46.84, 51.82, 45.02, 49.44, 51.32, 52.85, 40.84, 64.45, 44.43,\n",
       "       56.64, 46.06, 55.46, 51.41, 49.67, 49.98, 49.5 , 50.26, 52.05,\n",
       "       51.14, 46.3 , 56.99, 45.57, 45.92, 32.61, 57.27, 41.22, 39.73,\n",
       "       50.3 , 40.16, 41.37, 54.79, 52.39, 49.63, 54.95, 55.78, 46.49,\n",
       "       56.84, 48.06, 51.09, 44.19, 49.52, 65.11, 54.38, 57.14, 49.91,\n",
       "       48.76, 58.1 , 44.16, 44.66, 53.78, 43.91, 52.41, 50.54, 58.43,\n",
       "       59.77, 60.44, 50.94, 49.38, 63.98, 45.84, 51.01, 56.16, 45.77,\n",
       "       46.47, 46.02, 55.91, 55.9 , 59.8 , 60.97, 64.14, 39.98, 54.58,\n",
       "       52.64, 45.43, 61.8 , 58.  , 55.2 , 53.76, 39.36, 47.2 , 53.66,\n",
       "       61.53, 59.17, 63.73, 61.77, 51.89, 51.17, 54.33, 50.05, 54.82,\n",
       "       53.95, 54.34, 60.24, 56.39, 58.33, 51.26, 51.73, 51.35, 41.85,\n",
       "       45.21, 55.02, 45.35, 47.06, 43.59, 58.19, 62.72, 66.66, 64.66,\n",
       "       66.34, 60.59, 61.95, 67.84, 55.39, 49.16, 58.26, 48.12, 55.12,\n",
       "       47.36, 62.33, 53.68, 62.37, 63.58, 44.7 , 43.44, 52.36, 45.9 ,\n",
       "       53.51, 49.76, 68.31, 66.1 , 43.61, 46.2 , 51.52, 49.71, 53.5 ,\n",
       "       56.34, 51.83, 50.2 , 49.62, 62.54, 61.63, 59.87, 62.99, 57.2 ,\n",
       "       64.34, 45.75, 44.29, 49.41])"
      ]
     },
     "execution_count": 17,
     "metadata": {},
     "output_type": "execute_result"
    }
   ],
   "source": [
    "mc['sales_in_thousands'].unique()"
   ]
  },
  {
   "cell_type": "code",
   "execution_count": 18,
   "metadata": {},
   "outputs": [
    {
     "name": "stdout",
     "output_type": "stream",
     "text": [
      "<class 'pandas.core.frame.DataFrame'>\n",
      "RangeIndex: 548 entries, 0 to 547\n",
      "Data columns (total 7 columns):\n",
      " #   Column              Non-Null Count  Dtype   \n",
      "---  ------              --------------  -----   \n",
      " 0   market_id           548 non-null    int64   \n",
      " 1   market_size         548 non-null    category\n",
      " 2   location_id         548 non-null    int64   \n",
      " 3   store_age           548 non-null    int64   \n",
      " 4   promotion_group     548 non-null    category\n",
      " 5   week                548 non-null    int64   \n",
      " 6   sales_in_thousands  548 non-null    float64 \n",
      "dtypes: category(2), float64(1), int64(4)\n",
      "memory usage: 22.9 KB\n"
     ]
    }
   ],
   "source": [
    "mc.info()"
   ]
  },
  {
   "cell_type": "markdown",
   "metadata": {},
   "source": [
    "[Back to Table of Contents](#back)"
   ]
  },
  {
   "cell_type": "markdown",
   "metadata": {},
   "source": [
    "## Data Analysis"
   ]
  },
  {
   "cell_type": "code",
   "execution_count": 30,
   "metadata": {},
   "outputs": [
    {
     "data": {
      "text/html": [
       "<div>\n",
       "<style scoped>\n",
       "    .dataframe tbody tr th:only-of-type {\n",
       "        vertical-align: middle;\n",
       "    }\n",
       "\n",
       "    .dataframe tbody tr th {\n",
       "        vertical-align: top;\n",
       "    }\n",
       "\n",
       "    .dataframe thead th {\n",
       "        text-align: right;\n",
       "    }\n",
       "</style>\n",
       "<table border=\"1\" class=\"dataframe\">\n",
       "  <thead>\n",
       "    <tr style=\"text-align: right;\">\n",
       "      <th></th>\n",
       "      <th>market_id</th>\n",
       "      <th>location_id</th>\n",
       "      <th>store_age</th>\n",
       "      <th>week</th>\n",
       "      <th>sales_in_thousands</th>\n",
       "    </tr>\n",
       "  </thead>\n",
       "  <tbody>\n",
       "    <tr>\n",
       "      <th>count</th>\n",
       "      <td>548.00</td>\n",
       "      <td>548.00</td>\n",
       "      <td>548.00</td>\n",
       "      <td>548.00</td>\n",
       "      <td>548.00</td>\n",
       "    </tr>\n",
       "    <tr>\n",
       "      <th>mean</th>\n",
       "      <td>5.72</td>\n",
       "      <td>479.66</td>\n",
       "      <td>8.50</td>\n",
       "      <td>2.50</td>\n",
       "      <td>53.47</td>\n",
       "    </tr>\n",
       "    <tr>\n",
       "      <th>std</th>\n",
       "      <td>2.88</td>\n",
       "      <td>287.97</td>\n",
       "      <td>6.64</td>\n",
       "      <td>1.12</td>\n",
       "      <td>16.76</td>\n",
       "    </tr>\n",
       "    <tr>\n",
       "      <th>min</th>\n",
       "      <td>1.00</td>\n",
       "      <td>1.00</td>\n",
       "      <td>1.00</td>\n",
       "      <td>1.00</td>\n",
       "      <td>17.34</td>\n",
       "    </tr>\n",
       "    <tr>\n",
       "      <th>25%</th>\n",
       "      <td>3.00</td>\n",
       "      <td>216.00</td>\n",
       "      <td>4.00</td>\n",
       "      <td>1.75</td>\n",
       "      <td>42.54</td>\n",
       "    </tr>\n",
       "    <tr>\n",
       "      <th>50%</th>\n",
       "      <td>6.00</td>\n",
       "      <td>504.00</td>\n",
       "      <td>7.00</td>\n",
       "      <td>2.50</td>\n",
       "      <td>50.20</td>\n",
       "    </tr>\n",
       "    <tr>\n",
       "      <th>75%</th>\n",
       "      <td>8.00</td>\n",
       "      <td>708.00</td>\n",
       "      <td>12.00</td>\n",
       "      <td>3.25</td>\n",
       "      <td>60.48</td>\n",
       "    </tr>\n",
       "    <tr>\n",
       "      <th>max</th>\n",
       "      <td>10.00</td>\n",
       "      <td>920.00</td>\n",
       "      <td>28.00</td>\n",
       "      <td>4.00</td>\n",
       "      <td>99.65</td>\n",
       "    </tr>\n",
       "  </tbody>\n",
       "</table>\n",
       "</div>"
      ],
      "text/plain": [
       "       market_id  location_id  store_age    week  sales_in_thousands\n",
       "count     548.00       548.00     548.00  548.00              548.00\n",
       "mean        5.72       479.66       8.50    2.50               53.47\n",
       "std         2.88       287.97       6.64    1.12               16.76\n",
       "min         1.00         1.00       1.00    1.00               17.34\n",
       "25%         3.00       216.00       4.00    1.75               42.54\n",
       "50%         6.00       504.00       7.00    2.50               50.20\n",
       "75%         8.00       708.00      12.00    3.25               60.48\n",
       "max        10.00       920.00      28.00    4.00               99.65"
      ]
     },
     "execution_count": 30,
     "metadata": {},
     "output_type": "execute_result"
    }
   ],
   "source": [
    "# Looking at the data\n",
    "mc.describe().round(2)\n"
   ]
  },
  {
   "cell_type": "code",
   "execution_count": 29,
   "metadata": {},
   "outputs": [
    {
     "data": {
      "image/png": "[encoded data removed]",
      "text/plain": [
       "<Figure size 640x480 with 1 Axes>"
      ]
     },
     "metadata": {},
     "output_type": "display_data"
    }
   ],
   "source": [
    "# Looking at the sales distribution\n",
    "\n",
    "sns.boxplot(data=mc, x='promotion_group', y='sales_in_thousands')\n",
    "plt.title('Promotion Group Sales Distribution')\n",
    "plt.xlabel('Promotion Groups')\n",
    "plt.ylabel('Sales Value Distribution')\n",
    "plt.show()"
   ]
  },
  {
   "cell_type": "code",
   "execution_count": 53,
   "metadata": {},
   "outputs": [
    {
     "name": "stderr",
     "output_type": "stream",
     "text": [
      "C:\\Users\\jason\\AppData\\Local\\Temp\\ipykernel_29704\\670625526.py:3: FutureWarning: \n",
      "\n",
      "The `ci` parameter is deprecated. Use `errorbar=None` for the same effect.\n",
      "\n",
      "  sns.barplot(data=mc, x='market_size', y='sales_in_thousands', hue='promotion_group', ci=None)\n"
     ]
    },
    {
     "data": {
      "image/png": "[encoded data removed]",
      "text/plain": [
       "<Figure size 640x480 with 1 Axes>"
      ]
     },
     "metadata": {},
     "output_type": "display_data"
    }
   ],
   "source": [
    "# Looking at the the sales from the different market sizes and promotion groups\n",
    "\n",
    "sns.barplot(data=mc, x='market_size', y='sales_in_thousands', hue='promotion_group', ci=None)\n",
    "plt.title('Promotion Group Sales')\n",
    "plt.grid(axis='y')\n",
    "plt.xlabel('Market Sizes')\n",
    "plt.ylabel('Average Weekly Sales (in Thousands)')\n",
    "plt.legend(title='Promotion Group')\n",
    "plt.show()\n",
    "\n",
    "# After looking at the different promotion group sizes I need to uncover if the group sizes are relatively the same size"
   ]
  },
  {
   "cell_type": "code",
   "execution_count": 21,
   "metadata": {},
   "outputs": [
    {
     "data": {
      "image/png": "[encoded data removed]",
      "text/plain": [
       "<Figure size 640x480 with 1 Axes>"
      ]
     },
     "metadata": {},
     "output_type": "display_data"
    }
   ],
   "source": [
    "# Looking for the promotion group distribution\n",
    "\n",
    "mc['promotion_group'].value_counts().plot(kind='pie',\n",
    "                                          autopct='%1.1f%%',\n",
    "                                          fontsize=14,\n",
    "                                          labels=['', '', ''],\n",
    "                                          radius=1.25)\n",
    "plt.title('Promotion Group ')\n",
    "plt.legend(['B', 'C', 'A'],\n",
    "           title='Promotion Group',\n",
    "           loc=[0.95,.75])\n",
    "plt.show()"
   ]
  },
  {
   "cell_type": "code",
   "execution_count": 22,
   "metadata": {},
   "outputs": [
    {
     "data": {
      "image/png": "[encoded data removed]",
      "text/plain": [
       "<Figure size 640x480 with 1 Axes>"
      ]
     },
     "metadata": {},
     "output_type": "display_data"
    }
   ],
   "source": [
    "# Looking at the total participants within each promotion group\n",
    "\n",
    "ax = sns.countplot(mc, x='promotion_group')\n",
    "plt.bar_label(ax.containers[0])\n",
    "plt.title('Promotion Group Group Size')\n",
    "plt.grid(axis='y')\n",
    "plt.xlabel('Promotion Groups')\n",
    "plt.ylabel('Sample Size')\n",
    "plt.show()"
   ]
  },
  {
   "cell_type": "code",
   "execution_count": 24,
   "metadata": {},
   "outputs": [
    {
     "data": {
      "image/png": "[encoded data removed]",
      "text/plain": [
       "<Figure size 640x480 with 1 Axes>"
      ]
     },
     "metadata": {},
     "output_type": "display_data"
    }
   ],
   "source": [
    "# Uncovering the sales frequency for each promotion group\n",
    "\n",
    "sns.histplot(data=mc, x='sales_in_thousands', hue='promotion_group', multiple='stack', kde=True)\n",
    "plt.title('Promotion Group Sales Volume')\n",
    "plt.grid(axis='y')\n",
    "plt.xlabel('Average Weekly Sales (In Thousands)')\n",
    "plt.ylabel('Sales Frequency')\n",
    "plt.show()"
   ]
  },
  {
   "cell_type": "markdown",
   "metadata": {},
   "source": [
    "[Back to Table of Contents](#back)"
   ]
  },
  {
   "cell_type": "markdown",
   "metadata": {},
   "source": [
    "## A/B Test\n",
    "\n",
    "### ANOVA Test\n",
    "\n",
    "When performing an A/B test it is important to test your hypothesis to see if there is a statistically significant difference among test groups. For this dataset, since it contains more than two testing groups, I will use an analysis of variance (ANOVA) testing method that is designed to compare more than two testing groups. The ANOVA test compares the variance between groups with the variance within the group.\n",
    "\n",
    "Established hypothesis:\n",
    "\n",
    "    - (H0): M0 = M1 = M2 (There is not a statistical difference in the promotion groups)\n",
    "    \n",
    "    - (H1): M0 != M1 != M2 (There is a statistical difference in the promotion groups)\n",
    "\n",
    "For this test, we are going to use a significant level of 0.05. If the calculated p-value is greater than the significance level, then we can safely assume there is no statistically significant difference in testing groups, and we fail to reject the null hypothesis (H0). However, if the calculated p-value is less than the significance level, then there is a more significant statistical difference between at least one of the testing groups and we reject the null hypothesis (H0). The outcome will dictate how we will proceed with the test:\n",
    "\n",
    "    - If the normality assumption is met and we do not reject the null hypothesis we continue to the Homogeneity Test\n",
    "    \n",
    "    - If the normality assumption is not met and we reject the null hypothesis then we switch to a non-parametric testing method (Kruskal-Wallis Test)\n"
   ]
  },
  {
   "cell_type": "code",
   "execution_count": 26,
   "metadata": {},
   "outputs": [
    {
     "name": "stdout",
     "output_type": "stream",
     "text": [
      "c p-value: 0.0000\n",
      "b p-value: 0.0000\n",
      "a p-value: 0.0000\n"
     ]
    }
   ],
   "source": [
    "# Normality Assumption - Shapiro-Wilk Test\n",
    "\n",
    "for group in list(mc['promotion_group'].unique()):\n",
    "    p_value = shapiro(mc.loc[mc['promotion_group'] == group, 'sales_in_thousands'])[1]\n",
    "    print(group, 'p-value: %.4f' % p_value)\n",
    "\n",
    "# Since the p-value > 0.05 then we have reason to reject the null hypothesis which indicates that is not a normal distribution\n",
    "# In the case of non-normal distribution we can then use a non-parametric test. For this scenario we are going to use the Kruskal–Wallis Test"
   ]
  },
  {
   "cell_type": "code",
   "execution_count": 27,
   "metadata": {},
   "outputs": [
    {
     "name": "stdout",
     "output_type": "stream",
     "text": [
      "\n",
      "Statistic: 53.295\n",
      "p-value: 0.000\n",
      "\n"
     ]
    }
   ],
   "source": [
    "# Kruskal–Wallis Non-Parametric Test \n",
    "\n",
    "s,p = kruskal(mc.loc[mc['promotion_group']=='a', 'sales_in_thousands'],\n",
    "              mc.loc[mc['promotion_group']=='b', 'sales_in_thousands'],\n",
    "              mc.loc[mc['promotion_group']=='c', 'sales_in_thousands'])\n",
    "print(f'\\nStatistic: {s:.3f}\\np-value: {p:.3f}\\n')\n",
    "\n",
    "# Since the p-value > 0.05 then we have reason to reject the null hypothesis showing there is a significant statistical difference in one of the promotion groups\n"
   ]
  },
  {
   "cell_type": "code",
   "execution_count": 28,
   "metadata": {},
   "outputs": [
    {
     "name": "stdout",
     "output_type": "stream",
     "text": [
      " Multiple Comparison of Means - Tukey HSD, FWER=0.05 \n",
      "=====================================================\n",
      "group1 group2 meandiff p-adj   lower    upper  reject\n",
      "-----------------------------------------------------\n",
      "     a      b -10.7696    0.0 -14.7738 -6.7654   True\n",
      "     a      c  -2.7345 0.2444  -6.7388  1.2697  False\n",
      "     b      c   8.0351    0.0   4.1208 11.9493   True\n",
      "-----------------------------------------------------\n"
     ]
    }
   ],
   "source": [
    "# We should also check for which groups are significantly different\n",
    "\n",
    "multi_comparison = MultiComparison(mc['sales_in_thousands'], mc['promotion_group'])\n",
    "tukey = multi_comparison.tukeyhsd(0.05)\n",
    "print(tukey.summary())\n",
    "\n",
    "# Only when comparing groups a and c shows that there is no significant difference in marketing groups\n",
    "# The other group comparisons shows there is a significant difference in marketing groups"
   ]
  },
  {
   "cell_type": "markdown",
   "metadata": {},
   "source": [
    "[Back to Table of Contents](#back)"
   ]
  },
  {
   "cell_type": "markdown",
   "metadata": {},
   "source": [
    "## Conclusion\n",
    "\n",
    "A/B testing is an very useful tool that most businesses can apply to their business strategies to compare various ideas and marketing strategies without completely committing to one or another. Based on the results of this dataset, I uncovered that this fast food company should use promotion strategies A/1 and/or C/3 for their future primary marketing campaign for optimal sales performance."
   ]
  },
  {
   "cell_type": "markdown",
   "metadata": {},
   "source": [
    "[Back to Table of Contents](#back)"
   ]
  },
  {
   "cell_type": "markdown",
   "metadata": {},
   "source": [
    "## Dataset Citation\n",
    "\n",
    "Anastasia Chebotina. (2021, May). Fast Food Marketing Campaign A\\B Test, Version 1. Retrieved April 23, 2024 from [Kaggle](https://www.kaggle.com/datasets/chebotinaa/fast-food-marketing-campaign-ab-test/code)."
   ]
  },
  {
   "cell_type": "markdown",
   "metadata": {},
   "source": [
    "[Back to Table of Contents](#back)"
   ]
  }
 ],
 "metadata": {
  "kernelspec": {
   "display_name": "base",
   "language": "python",
   "name": "python3"
  },
  "language_info": {
   "codemirror_mode": {
    "name": "ipython",
    "version": 3
   },
   "file_extension": ".py",
   "mimetype": "text/x-python",
   "name": "python",
   "nbconvert_exporter": "python",
   "pygments_lexer": "ipython3",
   "version": "3.10.9"
  }
 },
 "nbformat": 4,
 "nbformat_minor": 2
}
